{
  "nbformat": 4,
  "nbformat_minor": 0,
  "metadata": {
    "colab": {
      "name": "Raster-cg.ipynb",
      "provenance": [],
      "collapsed_sections": [],
      "authorship_tag": "ABX9TyNwMF7/hWfHrb93bd/7n9L/",
      "include_colab_link": true
    },
    "kernelspec": {
      "name": "python3",
      "display_name": "Python 3"
    },
    "language_info": {
      "name": "python"
    }
  },
  "cells": [
    {
      "cell_type": "markdown",
      "metadata": {
        "id": "view-in-github",
        "colab_type": "text"
      },
      "source": [
        "<a href=\"https://colab.research.google.com/github/AcidTr/raster-dda/blob/main/Raster_cg.ipynb\" target=\"_parent\"><img src=\"https://colab.research.google.com/assets/colab-badge.svg\" alt=\"Open In Colab\"/></a>"
      ]
    },
    {
      "cell_type": "code",
      "metadata": {
        "id": "zHfzPr363LNO"
      },
      "source": [
        "import matplotlib.pyplot as plt\n",
        "import numpy as np"
      ],
      "execution_count": 356,
      "outputs": []
    },
    {
      "cell_type": "code",
      "metadata": {
        "id": "um6LsfmtUIcb"
      },
      "source": [
        "#função que retorna os fragmentos de todos os pontos\n",
        "def createFragments(x_array,y_array):\n",
        "  average_X = np.floor(np.array(x_array)) + 0.5\n",
        "  average_Y = np.floor(np.array(y_array)) + 0.5\n",
        "  return average_X, average_Y"
      ],
      "execution_count": 357,
      "outputs": []
    },
    {
      "cell_type": "code",
      "metadata": {
        "id": "ut3J1ypPy1gA"
      },
      "source": [
        "#Função que retorna o array de zeros e uns para plotar\n",
        "\n",
        "#Recebe os pontos inicias e finais do segmento de reta e um multiplicador \n",
        "#para aumentar a quantidade de pixels gerados\n",
        "def createZerosArray(x1, x2, y1, y2, multiplicador = 1):\n",
        "  #entrada com os valores dos pontos\n",
        "  x1 *= multiplicador\n",
        "  x2 *= multiplicador\n",
        "  y1 *= multiplicador\n",
        "  y2 *= multiplicador\n",
        "\n",
        "  delta_y = y2 - y1\n",
        "  delta_x = x2 - x1\n",
        "\n",
        "  m = delta_y/delta_x\n",
        "\n",
        "  limit = (x2-x1) if (x2-x1) > (y2-y1) else (y2-y1)\n",
        "\n",
        "  delta_x = delta_x/limit\n",
        "  delta_y = delta_y/limit\n",
        "\n",
        "\n",
        "\n",
        "  #calculando o termo independente\n",
        "  b = y1 - m*x1\n",
        "\n",
        "  if ((x2 - x1) > (y2 -y1)):\n",
        "    #criando dois arrays com os valores de x e y\n",
        "    x_array = np.arange(x1, x2 )\n",
        "    y_array = []\n",
        "\n",
        "    for element in x_array:\n",
        "      y_array.append(m*element + b)\n",
        "\n",
        "\n",
        "    x,y = createFragments(x_array, y_array)\n",
        "\n",
        "    \n",
        "\n",
        "    arr = np.zeros((10 * multiplicador,10 * multiplicador))\n",
        "    x = np.floor(x).astype(int)\n",
        "    y = np.floor(y).astype(int)\n",
        "    verts = np.array((x,y)).T\n",
        "\n",
        "    arr[x,y] = 1\n",
        "\n",
        "    return arr.T\n",
        "  else:\n",
        "    #Caso especial onde o a variação de y é maior que a de x\n",
        "\n",
        "    #criando dois arrays com os valores de x e y\n",
        "    x_array = []\n",
        "    y_array = np.arange(y1, y2 , delta_y);\n",
        "\n",
        "    for i in range(limit):\n",
        "      if (i == 0):\n",
        "        x_array.append(delta_x)\n",
        "      else:\n",
        "        x_array.append(x_array[i-1] + delta_x)\n",
        "\n",
        "    x,y = createFragments(x_array, y_array)\n",
        "\n",
        "\n",
        "    arr = np.zeros((10 * multiplicador,10 * multiplicador))\n",
        "    x = np.floor(x).astype(int)\n",
        "    y = np.floor(y).astype(int)\n",
        "    verts = np.array((x,y)).T\n",
        "\n",
        "    arr[x,y] = 1\n",
        "\n",
        "    return arr.T"
      ],
      "execution_count": 358,
      "outputs": []
    },
    {
      "cell_type": "code",
      "metadata": {
        "colab": {
          "base_uri": "https://localhost:8080/",
          "height": 579
        },
        "id": "oloVwC3s5XXw",
        "outputId": "8a1afb13-2982-4e47-e673-ff44616f47d0"
      },
      "source": [
        "\n",
        "arr = createZerosArray(0,9,0,3);\n",
        "arr2 = createZerosArray(0,9,9,7);\n",
        "arr3 = createZerosArray(0,3,5,9);\n",
        "arr4 = createZerosArray(0,9,0,3,10);\n",
        "arr5 = createZerosArray(0,9,9,7,10);\n",
        "arr6 = createZerosArray(0,3,5,9,10);\n",
        "\n",
        "\n",
        "fig = plt.figure(figsize=(15,15))\n",
        "\n",
        "ax = fig.add_subplot(3, 3, 1)\n",
        "ax.imshow(arr, interpolation='nearest', aspect='equal', origin='lower', cmap='inferno')\n",
        "# plt.plot([0, 9], [0, 3])\n",
        "\n",
        "\n",
        "ax2 = fig.add_subplot(3, 3, 2)\n",
        "ax2.imshow(arr2, interpolation='nearest', aspect='equal', origin='lower', cmap='inferno')\n",
        "# plt.plot([0, 9], [9, 7])\n",
        "\n",
        "ax3 = fig.add_subplot(3, 3, 3)\n",
        "ax3.imshow(arr3, interpolation='nearest', aspect='equal', origin='lower', cmap='inferno')\n",
        "# plt.plot([0, 3], [5, 9])\n",
        "\n",
        "ax4 = fig.add_subplot(1, 3, 1)\n",
        "ax4.imshow(arr4, interpolation='nearest', aspect='equal', origin='lower', cmap='inferno')\n",
        "# plt.plot([0, 900], [0, 300])\n",
        "\n",
        "ax5 = fig.add_subplot(1, 3, 2)\n",
        "ax5.imshow(arr5, interpolation='nearest', aspect='equal', origin='lower', cmap='inferno')\n",
        "# plt.plot([0, 900], [900, 700])\n",
        "\n",
        "ax6 = fig.add_subplot(1, 3, 3)\n",
        "ax6.imshow(arr6, interpolation='nearest', aspect='equal', origin='lower', cmap='inferno')\n",
        "# plt.plot([0, 300], [500, 900])\n",
        "\n",
        "\n",
        "plt.show();"
      ],
      "execution_count": 360,
      "outputs": [
        {
          "output_type": "display_data",
          "data": {
            "image/png": "[encoded data removed]",
            "text/plain": [
              "<Figure size 1080x1080 with 6 Axes>"
            ]
          },
          "metadata": {
            "tags": [],
            "needs_background": "light"
          }
        }
      ]
    },
    {
      "cell_type": "code",
      "metadata": {
        "id": "393giaTeZWJN"
      },
      "source": [
        ""
      ],
      "execution_count": null,
      "outputs": []
    }
  ]
}